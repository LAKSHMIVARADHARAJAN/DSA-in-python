{
 "cells": [
  {
   "cell_type": "markdown",
   "id": "02800a61-7605-42f4-b996-bd3f1846b8d5",
   "metadata": {},
   "source": [
    "1.Remove duplicates from a sorted array\n",
    "\n",
    "Find the second largest element"
   ]
  },
  {
   "cell_type": "code",
   "execution_count": 24,
   "id": "8bdefba3-fdf1-46e6-bf57-e6a5cae78752",
   "metadata": {},
   "outputs": [
    {
     "name": "stdout",
     "output_type": "stream",
     "text": [
      " answer for remove duplicate: [1, 2, 3, 4, 5]\n",
      " answer for second largest: 4\n"
     ]
    }
   ],
   "source": [
    "def remove_duplicate(arr):\n",
    "    if not arr:\n",
    "        return []\n",
    "    unique=[arr[0]]#initialize new list\n",
    "    for i in range(1,len(arr)):\n",
    "        if arr[i]!=arr[i-1]:\n",
    "            unique.append(arr[i])\n",
    "    return unique\n",
    "def second_largest(arr):\n",
    "    unique_arr=remove_duplicate(arr)\n",
    "    if len(unique_arr)<2:\n",
    "        return None\n",
    "    return unique_arr[-2]\n",
    "array=[1,2,2,3,3,3,4,4,5,5]\n",
    "answer=remove_duplicate(array)\n",
    "answer2=second_largest(array)\n",
    "print(\" answer for remove duplicate:\",answer)\n",
    "print(\" answer for second largest:\",answer2)"
   ]
  },
  {
   "cell_type": "markdown",
   "id": "d3e0b11c-68c4-4e5a-bb46-44d627e133ba",
   "metadata": {},
   "source": [
    "2.Find the maximum and minimum element in array(After solving the search , you can solve all probs in this basics by yourself)"
   ]
  },
  {
   "cell_type": "code",
   "execution_count": 31,
   "id": "468435dc-503c-4192-8d92-f84821cce3ae",
   "metadata": {},
   "outputs": [
    {
     "name": "stdout",
     "output_type": "stream",
     "text": [
      "{<built-in function max>: 99, <built-in function min>: 11}\n"
     ]
    }
   ],
   "source": [
    "def get_min_max(arr):\n",
    "    arr.sort()\n",
    "    min_max={max:arr[-1],min:arr[0]}\n",
    "    return min_max\n",
    "array=[33,22,55,11,77,34,99]\n",
    "answer=get_min_max(array)\n",
    "print(answer)"
   ]
  },
  {
   "cell_type": "markdown",
   "id": "c0cffb10-4aae-4944-a80d-b12951cf6b83",
   "metadata": {},
   "source": [
    "3.Find third largest element in array"
   ]
  },
  {
   "cell_type": "code",
   "execution_count": 34,
   "id": "0a2bf824-7b62-4737-99f1-ee3b8fd048db",
   "metadata": {},
   "outputs": [
    {
     "name": "stdout",
     "output_type": "stream",
     "text": [
      "third largest element is: 66\n"
     ]
    }
   ],
   "source": [
    "def third_largest_element(arr):\n",
    "    arr.sort()\n",
    "    third_large=arr[-3]\n",
    "    return third_large\n",
    "array=[44,33,66,22,88,99,11]\n",
    "answer=third_largest_element(array)\n",
    "print(\"third largest element is:\",answer)"
   ]
  },
  {
   "cell_type": "markdown",
   "id": "89632080-e267-4cf3-9b22-b2376fee4a39",
   "metadata": {},
   "source": [
    "4.Search an element in array(Understand how to traverse through the array and how to access the elements)\n"
   ]
  },
  {
   "cell_type": "code",
   "execution_count": 3,
   "id": "4a770eba-d74f-425e-953e-67a69722b5df",
   "metadata": {},
   "outputs": [
    {
     "name": "stdout",
     "output_type": "stream",
     "text": [
      "Element found at index 2\n"
     ]
    }
   ],
   "source": [
    "arr = [10, 20, 30, 40, 50]\n",
    "target = 30\n",
    "for i in range(len(arr)):\n",
    "    if arr[i] == target:\n",
    "        print(f\"Element found at index {i}\")\n",
    "        found=True \n",
    "        break\n",
    "if not found:\n",
    "    print(\"Element not found\")\n"
   ]
  },
  {
   "cell_type": "markdown",
   "id": "95046120-8950-4054-abf2-d385ab3420aa",
   "metadata": {},
   "source": [
    "##### 5 Find missing number in array(brute force algorithm)not good. time complexity o(n2)"
   ]
  },
  {
   "cell_type": "code",
   "execution_count": 30,
   "id": "016b115f-3bf1-4d1f-86f9-e6020d29135b",
   "metadata": {},
   "outputs": [
    {
     "name": "stdin",
     "output_type": "stream",
     "text": [
      "Enter numbers (space-separated):  1 2 3 5 6 6\n"
     ]
    },
    {
     "name": "stdout",
     "output_type": "stream",
     "text": [
      "Missing value: 4\n"
     ]
    }
   ],
   "source": [
    "class Solution:\n",
    "    def findmissing(self, arr):\n",
    "        n = len(arr) + 1\n",
    "        for i in range(1, n + 1):\n",
    "            found = False\n",
    "            for j in range(0, n - 1):\n",
    "                if arr[j] == i:\n",
    "                    found = True\n",
    "                    break\n",
    "            if not found:\n",
    "                return i\n",
    "        return -1\n",
    "array = list(map(int, input(\"Enter numbers (space-separated): \").split()))\n",
    "sol = Solution()\n",
    "print(\"Missing value:\", sol.findmissing(array))"
   ]
  },
  {
   "cell_type": "markdown",
   "id": "35918f6a-e956-4426-9f8a-105b4c5be0dc",
   "metadata": {},
   "source": [
    "6.find missing value with time complexity o(n)"
   ]
  },
  {
   "cell_type": "code",
   "execution_count": 35,
   "id": "ab05da24-6ae1-4e29-a844-b78fd363eb6d",
   "metadata": {},
   "outputs": [
    {
     "name": "stdin",
     "output_type": "stream",
     "text": [
      "Enter numbers with one missing (space-separated):  1 2 3 4 5 7 8 9\n"
     ]
    },
    {
     "name": "stdout",
     "output_type": "stream",
     "text": [
      "Missing number is: 6\n"
     ]
    }
   ],
   "source": [
    "class Solution:\n",
    "    def missvalue(self,arr):\n",
    "        n=len(arr)+1\n",
    "        total_sum = n * (n + 1) // 2  \n",
    "        actual_sum = sum(arr)        \n",
    "        return total_sum - actual_sum\n",
    "arr = list(map(int, input(\"Enter numbers with one missing (space-separated): \").split()))\n",
    "sol = Solution()\n",
    "print(\"Missing number is:\", sol.missvalue(arr))\n"
   ]
  },
  {
   "cell_type": "markdown",
   "id": "4c235595-64c7-4b32-bada-8633cd211155",
   "metadata": {},
   "source": [
    "7.find repeat number"
   ]
  },
  {
   "cell_type": "code",
   "execution_count": 41,
   "id": "3e0f22c0-511d-47ca-a6ce-e5c83b5de286",
   "metadata": {},
   "outputs": [
    {
     "name": "stdin",
     "output_type": "stream",
     "text": [
      "Enter numbers (space-separated):  1 2 3 4 5 2 6 3\n"
     ]
    },
    {
     "name": "stdout",
     "output_type": "stream",
     "text": [
      "Repeating value: 2\n"
     ]
    }
   ],
   "source": [
    "class Solution:\n",
    "    def findRepeating(self, arr):\n",
    "        seen = set()\n",
    "        for num in arr:\n",
    "            if num in seen:\n",
    "                return num\n",
    "            seen.add(num)\n",
    "        return -1\n",
    "\n",
    "# Input\n",
    "array = list(map(int, input(\"Enter numbers (space-separated): \").split()))\n",
    "sol = Solution()\n",
    "print(\"Repeating value:\", sol.findRepeating(array))\n"
   ]
  },
  {
   "cell_type": "markdown",
   "id": "ff5c2612-7db4-4529-9c88-3e21817f3337",
   "metadata": {},
   "source": [
    "8. find all repeating values"
   ]
  },
  {
   "cell_type": "code",
   "execution_count": 48,
   "id": "64ec9591-5dcd-404c-840a-95249d5df54b",
   "metadata": {},
   "outputs": [
    {
     "name": "stdin",
     "output_type": "stream",
     "text": [
      "Enter numbers (space-separated):  1 2 3 4 5\n"
     ]
    },
    {
     "name": "stdout",
     "output_type": "stream",
     "text": [
      "Repeating values: [-1]\n"
     ]
    }
   ],
   "source": [
    "class Solution:\n",
    "    def findAllRepeating(self, arr):\n",
    "        seen = set()\n",
    "        duplicates = set()\n",
    "\n",
    "        for num in arr:\n",
    "            if num in seen:\n",
    "                duplicates.add(num)\n",
    "            else:\n",
    "                seen.add(num)\n",
    "\n",
    "        return list(duplicates) if duplicates else [-1]\n",
    "\n",
    "array = list(map(int, input(\"Enter numbers (space-separated): \").split()))\n",
    "sol = Solution()\n",
    "result = sol.findAllRepeating(array)\n",
    "\n",
    "print(\"Repeating values:\", result)\n"
   ]
  },
  {
   "cell_type": "markdown",
   "id": "4536d833-c8f0-4aa7-9bab-4f9949f88186",
   "metadata": {},
   "source": [
    "9.Sort an array of 0s , 1s and 2s (You dont need to know any sorting algo, just using basics, once solved, definitely learn the optimal algo)"
   ]
  },
  {
   "cell_type": "code",
   "execution_count": 20,
   "id": "2421c8ee-f406-4d22-80c4-8a382eec857a",
   "metadata": {},
   "outputs": [
    {
     "name": "stdout",
     "output_type": "stream",
     "text": [
      "Sorted: [0, 0, 0, 0, 0, 1, 1, 1, 1, 1, 2, 2, 2, 2, 2]\n"
     ]
    }
   ],
   "source": [
    "class Solution:\n",
    "    def sorti(self,arr):\n",
    "        arr.sort()\n",
    "        return arr\n",
    "array=[0,1,2,0,0,0,1,1,1,2,2,2,0,1,2]# more time complexity and space complexity. so failure alhorithm.use dutch national flag instead\n",
    "\n",
    "sol=Solution()\n",
    "print(\"Sorted:\",sol.sorti(array))\n",
    "    "
   ]
  },
  {
   "cell_type": "markdown",
   "id": "dece6151-c4ef-4033-b800-925af7a78bb7",
   "metadata": {},
   "source": [
    "10.find 1st and last position of element in sorted array"
   ]
  },
  {
   "cell_type": "code",
   "execution_count": 47,
   "id": "462ed79c-d00b-4c1f-a550-72e9e25f1f26",
   "metadata": {},
   "outputs": [],
   "source": [
    "class Solution(object):\n",
    "    def position(self,nums,target):\n",
    "        def first_position(nums,target):\n",
    "            left=0\n",
    "            right=len(nums)-1\n",
    "            first=-1# return -1 if does not match\n",
    "            while left<=right:\n",
    "               mid=(left+right)//2\n",
    "               if nums[mid]==target:\n",
    "                 first =mid\n",
    "                 right=mid-1\n",
    "               elif nums[mid]>target:\n",
    "                 right=mid-1\n",
    "               else:\n",
    "                 left=mid+1\n",
    "            return first\n",
    "        def last_position(nums,target):\n",
    "            left=0\n",
    "            right=len(nums)-1\n",
    "            last=-1\n",
    "            while left<=right:\n",
    "                mid=(left+right)//2\n",
    "                if nums[mid]==target:\n",
    "                    last=mid\n",
    "                    left=mid+1\n",
    "                elif nums[mid]>target:\n",
    "                    right=mid-1\n",
    "                else:\n",
    "                    left=mid+1\n",
    "            return last\n",
    "        start=first_position(nums,target)\n",
    "        end=last_position(nums,target)\n",
    "        return [start, end]\n",
    "            "
   ]
  },
  {
   "cell_type": "code",
   "execution_count": 49,
   "id": "4943ffa4-2c0b-4737-a590-f716f7c7817a",
   "metadata": {},
   "outputs": [
    {
     "name": "stdout",
     "output_type": "stream",
     "text": [
      "[3, 4]\n"
     ]
    }
   ],
   "source": [
    "sol=Solution()\n",
    "result=sol.position([6,7,8,9,9,10,11],9)\n",
    "print(result)"
   ]
  },
  {
   "cell_type": "code",
   "execution_count": null,
   "id": "754668f3-771a-4a6f-ae52-484a09163c06",
   "metadata": {},
   "outputs": [],
   "source": []
  }
 ],
 "metadata": {
  "kernelspec": {
   "display_name": "Python 3 (ipykernel)",
   "language": "python",
   "name": "python3"
  },
  "language_info": {
   "codemirror_mode": {
    "name": "ipython",
    "version": 3
   },
   "file_extension": ".py",
   "mimetype": "text/x-python",
   "name": "python",
   "nbconvert_exporter": "python",
   "pygments_lexer": "ipython3",
   "version": "3.12.4"
  }
 },
 "nbformat": 4,
 "nbformat_minor": 5
}
