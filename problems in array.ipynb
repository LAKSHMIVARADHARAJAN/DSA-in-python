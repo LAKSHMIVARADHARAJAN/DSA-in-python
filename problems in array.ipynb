{
 "cells": [
  {
   "cell_type": "markdown",
   "id": "02800a61-7605-42f4-b996-bd3f1846b8d5",
   "metadata": {},
   "source": [
    "1.Remove duplicates from a sorted array\n",
    "\n",
    "Find the second largest element"
   ]
  },
  {
   "cell_type": "code",
   "execution_count": 24,
   "id": "8bdefba3-fdf1-46e6-bf57-e6a5cae78752",
   "metadata": {},
   "outputs": [
    {
     "name": "stdout",
     "output_type": "stream",
     "text": [
      " answer for remove duplicate: [1, 2, 3, 4, 5]\n",
      " answer for second largest: 4\n"
     ]
    }
   ],
   "source": [
    "def remove_duplicate(arr):\n",
    "    if not arr:\n",
    "        return []\n",
    "    unique=[arr[0]]#initialize new list\n",
    "    for i in range(1,len(arr)):\n",
    "        if arr[i]!=arr[i-1]:\n",
    "            unique.append(arr[i])\n",
    "    return unique\n",
    "def second_largest(arr):\n",
    "    unique_arr=remove_duplicate(arr)\n",
    "    if len(unique_arr)<2:\n",
    "        return None\n",
    "    return unique_arr[-2]\n",
    "array=[1,2,2,3,3,3,4,4,5,5]\n",
    "answer=remove_duplicate(array)\n",
    "answer2=second_largest(array)\n",
    "print(\" answer for remove duplicate:\",answer)\n",
    "print(\" answer for second largest:\",answer2)"
   ]
  },
  {
   "cell_type": "markdown",
   "id": "d3e0b11c-68c4-4e5a-bb46-44d627e133ba",
   "metadata": {},
   "source": [
    "2.Find the maximum and minimum element in array(After solving the search , you can solve all probs in this basics by yourself)"
   ]
  },
  {
   "cell_type": "code",
   "execution_count": 31,
   "id": "468435dc-503c-4192-8d92-f84821cce3ae",
   "metadata": {},
   "outputs": [
    {
     "name": "stdout",
     "output_type": "stream",
     "text": [
      "{<built-in function max>: 99, <built-in function min>: 11}\n"
     ]
    }
   ],
   "source": [
    "def get_min_max(arr):\n",
    "    arr.sort()\n",
    "    min_max={max:arr[-1],min:arr[0]}\n",
    "    return min_max\n",
    "array=[33,22,55,11,77,34,99]\n",
    "answer=get_min_max(array)\n",
    "print(answer)"
   ]
  },
  {
   "cell_type": "markdown",
   "id": "c0cffb10-4aae-4944-a80d-b12951cf6b83",
   "metadata": {},
   "source": [
    "3.Find third largest element in array"
   ]
  },
  {
   "cell_type": "code",
   "execution_count": 34,
   "id": "0a2bf824-7b62-4737-99f1-ee3b8fd048db",
   "metadata": {},
   "outputs": [
    {
     "name": "stdout",
     "output_type": "stream",
     "text": [
      "third largest element is: 66\n"
     ]
    }
   ],
   "source": [
    "def third_largest_element(arr):\n",
    "    arr.sort()\n",
    "    third_large=arr[-3]\n",
    "    return third_large\n",
    "array=[44,33,66,22,88,99,11]\n",
    "answer=third_largest_element(array)\n",
    "print(\"third largest element is:\",answer)"
   ]
  },
  {
   "cell_type": "markdown",
   "id": "89632080-e267-4cf3-9b22-b2376fee4a39",
   "metadata": {},
   "source": [
    "Search an element in array(Understand how to traverse through the array and how to access the elements)\n"
   ]
  },
  {
   "cell_type": "code",
   "execution_count": 3,
   "id": "4a770eba-d74f-425e-953e-67a69722b5df",
   "metadata": {},
   "outputs": [
    {
     "name": "stdout",
     "output_type": "stream",
     "text": [
      "Element found at index 2\n"
     ]
    }
   ],
   "source": [
    "arr = [10, 20, 30, 40, 50]\n",
    "target = 30\n",
    "for i in range(len(arr)):\n",
    "    if arr[i] == target:\n",
    "        print(f\"Element found at index {i}\")\n",
    "        found=True \n",
    "        break\n",
    "if not found:\n",
    "    print(\"Element not found\")\n"
   ]
  },
  {
   "cell_type": "code",
   "execution_count": null,
   "id": "0a78144c-a8e6-4fb7-b111-d23684cfce38",
   "metadata": {},
   "outputs": [],
   "source": []
  }
 ],
 "metadata": {
  "kernelspec": {
   "display_name": "Python 3 (ipykernel)",
   "language": "python",
   "name": "python3"
  },
  "language_info": {
   "codemirror_mode": {
    "name": "ipython",
    "version": 3
   },
   "file_extension": ".py",
   "mimetype": "text/x-python",
   "name": "python",
   "nbconvert_exporter": "python",
   "pygments_lexer": "ipython3",
   "version": "3.12.4"
  }
 },
 "nbformat": 4,
 "nbformat_minor": 5
}
